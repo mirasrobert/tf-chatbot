{
 "cells": [
  {
   "cell_type": "markdown",
   "id": "93daaaa3",
   "metadata": {},
   "source": [
    "# Import Dependencies"
   ]
  },
  {
   "cell_type": "code",
   "execution_count": 1,
   "id": "e62610ba",
   "metadata": {},
   "outputs": [
    {
     "name": "stdout",
     "output_type": "stream",
     "text": [
      "WARNING:tensorflow:From D:\\(E)\\Programming Tuts\\Projects Tutorials\\Python\\Python Chatbot Tensorflow\\venvchatbot\\lib\\site-packages\\tensorflow\\python\\compat\\v2_compat.py:107: disable_resource_variables (from tensorflow.python.ops.variable_scope) is deprecated and will be removed in a future version.\n",
      "Instructions for updating:\n",
      "non-resource variables are not supported in the long term\n",
      "curses is not supported on this machine (please install/reinstall curses for an optimal experience)\n",
      "Scipy not supported!\n"
     ]
    }
   ],
   "source": [
    "import nltk # for text proprocessing & stemming & tokenization\n",
    "from nltk.stem.lancaster import LancasterStemmer\n",
    "stemmer = LancasterStemmer()\n",
    "\n",
    "import tflearn # Loading Model\n",
    "\n",
    "import tensorflow # For Building Model\n",
    "from tensorflow.python.framework import ops\n",
    "ops.reset_default_graph()\n",
    "\n",
    "import pickle # For Loading Processed Data\n",
    "import numpy\n",
    "import random"
   ]
  },
  {
   "cell_type": "markdown",
   "id": "4331902e",
   "metadata": {},
   "source": [
    "# Import/Load Dataset"
   ]
  },
  {
   "cell_type": "code",
   "execution_count": 2,
   "id": "b9046aad",
   "metadata": {},
   "outputs": [
    {
     "name": "stdout",
     "output_type": "stream",
     "text": [
      "[{'tag': 'greeting', 'patterns': ['Hi', 'How are you', 'Is anyone there?', 'Hello', 'Good day', 'Whats up'], 'responses': ['Hello!', 'Good to see you again!', 'Hi there, how can I help?'], 'context_set': ''}, {'tag': 'goodbye', 'patterns': ['cya', 'See you later', 'Goodbye', 'I am Leaving', 'Have a Good day'], 'responses': ['Sad to see you go :(', 'Talk to you later', 'Goodbye!'], 'context_set': ''}, {'tag': 'age', 'patterns': ['how old', 'how old is tim', 'what is your age', 'how old are you', 'age?'], 'responses': ['I am 18 years old!', '18 years young!'], 'context_set': ''}, {'tag': 'name', 'patterns': ['what is your name', 'what should I call you', 'whats your name?'], 'responses': ['You can call me Tim.', \"I'm Tim!\", \"I'm Tim aka Tech With Tim.\"], 'context_set': ''}, {'tag': 'shop', 'patterns': ['Id like to buy something', 'whats on the menu', 'what do you reccommend?', 'could i get something to eat'], 'responses': ['We sell chocolate chip cookies for $2!', 'Cookies are on the menu!'], 'context_set': ''}, {'tag': 'hours', 'patterns': ['when are you guys open', 'what are your hours', 'hours of operation'], 'responses': ['We are open 7am-4pm Monday-Friday!'], 'context_set': ''}]\n"
     ]
    }
   ],
   "source": [
    "import os\n",
    "import json\n",
    "\n",
    "with open(os.path.join(\"dataset\", \"intents.json\")) as file:\n",
    "    data = json.load(file)\n",
    "    # Print json file\n",
    "    print(data['intents'])"
   ]
  },
  {
   "cell_type": "markdown",
   "id": "af8a60d5",
   "metadata": {},
   "source": [
    "# Load the dataset that has been already processed."
   ]
  },
  {
   "cell_type": "code",
   "execution_count": 3,
   "id": "966ed9b0",
   "metadata": {},
   "outputs": [],
   "source": [
    "try:\n",
    "    with open(\"data.pickle\", \"rb\") as f:\n",
    "        words, labels, training, output = pickle.load(f)\n",
    "except:\n",
    "    print(\"Please run the build and train model notebook first :)\")"
   ]
  },
  {
   "cell_type": "markdown",
   "id": "4c97bb8e",
   "metadata": {},
   "source": [
    "# Load the model"
   ]
  },
  {
   "cell_type": "code",
   "execution_count": 4,
   "id": "9e2712f5",
   "metadata": {},
   "outputs": [
    {
     "name": "stdout",
     "output_type": "stream",
     "text": [
      "WARNING:tensorflow:From D:\\(E)\\Programming Tuts\\Projects Tutorials\\Python\\Python Chatbot Tensorflow\\venvchatbot\\lib\\site-packages\\tflearn\\initializations.py:164: calling TruncatedNormal.__init__ (from tensorflow.python.ops.init_ops) with dtype is deprecated and will be removed in a future version.\n",
      "Instructions for updating:\n",
      "Call initializer instance with the dtype argument instead of passing it to the constructor\n",
      "INFO:tensorflow:Restoring parameters from D:\\(E)\\Programming Tuts\\Projects Tutorials\\Python\\Python Chatbot Tensorflow\\model.tflearn\n"
     ]
    }
   ],
   "source": [
    "# Load the Model\n",
    "net = tflearn.input_data(shape=[None, len(training[0])])\n",
    "net = tflearn.fully_connected(net, 8)\n",
    "net = tflearn.fully_connected(net, 8)\n",
    "net = tflearn.fully_connected(net, len(output[0]), activation=\"softmax\")\n",
    "net = tflearn.regression(net)\n",
    "\n",
    "# Building a Model\n",
    "model = tflearn.DNN(net)\n",
    "\n",
    "try:\n",
    "    model.load(\"model.tflearn\") # Load the model if model has already been created\n",
    "except:\n",
    "    print(\"No Saved Model, Please run the other notebook.\")"
   ]
  },
  {
   "cell_type": "code",
   "execution_count": 5,
   "id": "46963c8e",
   "metadata": {},
   "outputs": [],
   "source": [
    "def bag_of_words(s, words):\n",
    "    bag = [0 for _ in range(len(words))]\n",
    "\n",
    "    s_words = nltk.word_tokenize(s)\n",
    "    s_words = [stemmer.stem(word.lower()) for word in s_words]\n",
    "\n",
    "    for se in s_words:\n",
    "        for i, w in enumerate(words):\n",
    "            if w == se:\n",
    "                bag[i] = 1\n",
    "            \n",
    "    return numpy.array(bag)"
   ]
  },
  {
   "cell_type": "markdown",
   "id": "f5caebf8",
   "metadata": {},
   "source": [
    "# Testing chatbot"
   ]
  },
  {
   "cell_type": "code",
   "execution_count": 6,
   "id": "f290541c",
   "metadata": {},
   "outputs": [],
   "source": [
    "def chat():\n",
    "    print(\"Start talking with the bot (type quit to stop)!\")\n",
    "    while True:\n",
    "        inp = input(\"You: \")\n",
    "        if inp.lower() == \"quit\":\n",
    "            break\n",
    "\n",
    "        results = model.predict([bag_of_words(inp, words)])\n",
    "        results_index = numpy.argmax(results) # predicted label index\n",
    "        tag = labels[results_index] # tag: greeting, goodbye, age .etc.\n",
    "\n",
    "        # Loop through our dataset\n",
    "        for tg in data[\"intents\"]:\n",
    "            if tg['tag'] == tag: # If tag is equal to the predicted tag\n",
    "                # get the responses for that tag\n",
    "                responses = tg['responses']\n",
    "                \n",
    "        print(\"Tag: {}\".format(tag))\n",
    "        print(\"Bot: {}\".format(random.choice(responses))) # Print a random response"
   ]
  },
  {
   "cell_type": "code",
   "execution_count": null,
   "id": "ba2a3c5b",
   "metadata": {},
   "outputs": [
    {
     "name": "stdout",
     "output_type": "stream",
     "text": [
      "Start talking with the bot (type quit to stop)!\n",
      "You: is anyone there?\n",
      "Tag: greeting\n",
      "Bot: Hi there, how can I help?\n",
      "You: Im hungry, I want to eat\n",
      "Tag: shop\n",
      "Bot: We sell chocolate chip cookies for $2!\n",
      "You: when are you guys opening\n",
      "Tag: hours\n",
      "Bot: We are open 7am-4pm Monday-Friday!\n",
      "You: how old are you?\n",
      "Tag: age\n",
      "Bot: I am 18 years old!\n"
     ]
    }
   ],
   "source": [
    "# Run chat\n",
    "chat()"
   ]
  },
  {
   "cell_type": "code",
   "execution_count": null,
   "id": "58566856",
   "metadata": {},
   "outputs": [],
   "source": []
  }
 ],
 "metadata": {
  "kernelspec": {
   "display_name": "venvchatbot",
   "language": "python",
   "name": "venvchatbot"
  },
  "language_info": {
   "codemirror_mode": {
    "name": "ipython",
    "version": 3
   },
   "file_extension": ".py",
   "mimetype": "text/x-python",
   "name": "python",
   "nbconvert_exporter": "python",
   "pygments_lexer": "ipython3",
   "version": "3.9.11"
  }
 },
 "nbformat": 4,
 "nbformat_minor": 5
}
